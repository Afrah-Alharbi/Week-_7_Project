{
 "cells": [
  {
   "cell_type": "code",
   "execution_count": null,
   "id": "4146d709-29ef-4551-8981-b0c0fdc8300c",
   "metadata": {},
   "outputs": [],
   "source": [
    "# Machine Learning in Fintech\n",
    "\n",
    "\n",
    "# Area of Fintech\n",
    "\n",
    "Lending & Credit Loan Decision\n",
    "\n",
    "\n",
    "# Dataset Researched and Located\n",
    "\n",
    "We found a dataset for P2P loans for [LendingClub](https://www.lendingclub.com/) platform. We get the data from the [Kaggle website](https://www.kaggle.com/jeandedieunyandwi/lending-club-dataset)\n",
    "\n",
    "\n",
    "# ML Use Case\n",
    "\n",
    "We are trying to build a model that would give us indication if this candidate be suitable to be given a loan\n",
    "\n",
    "\n",
    "# ML Model Selected\n",
    "\n",
    "We need a Classification model that able to perform well under unbalanced data and non-linear relation\n",
    "\n",
    "\n",
    "\n",
    "* Random Forest \n",
    "* XGBoost\n",
    "* Neural Network\n",
    "\n",
    "**Group Number**: 06\n",
    "\n",
    "**Group Name**: R.A.H\n",
    "\n",
    "**Group Members**:\n",
    "\n",
    "- Hussein Ali\n",
    "\n",
    "- Reem AlQhatani\n",
    "\n",
    "- Afrah AlHarbi\n",
    "\n",
    "- Hessah AlMatrudi\n",
    "\n",
    "- Ahmad AlGazal"
   ]
  },
  {
   "cell_type": "code",
   "execution_count": null,
   "id": "ea66fa98-41e3-431d-8012-8cbefc997d43",
   "metadata": {},
   "outputs": [],
   "source": []
  },
  {
   "cell_type": "code",
   "execution_count": null,
   "id": "fd948871-94c8-4ead-81ee-05878b5508fe",
   "metadata": {},
   "outputs": [],
   "source": []
  }
 ],
 "metadata": {
  "kernelspec": {
   "display_name": "Python 3",
   "language": "python",
   "name": "python3"
  },
  "language_info": {
   "codemirror_mode": {
    "name": "ipython",
    "version": 3
   },
   "file_extension": ".py",
   "mimetype": "text/x-python",
   "name": "python",
   "nbconvert_exporter": "python",
   "pygments_lexer": "ipython3",
   "version": "3.8.8"
  }
 },
 "nbformat": 4,
 "nbformat_minor": 5
}
